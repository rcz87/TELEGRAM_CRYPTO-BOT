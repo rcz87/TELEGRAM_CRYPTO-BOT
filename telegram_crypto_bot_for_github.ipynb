{
 "cells": [
  {
   "cell_type": "code",
   "execution_count": null,
   "id": "51182a81",
   "metadata": {},
   "outputs": [],
   "source": [
    "# ✅ TELEGRAM CRYPTO BOT INTERAKTIF - V1\n",
    "# Bot hanya aktif saat diperintah (/cek COIN TF), menganalisis menggunakan indikator teknikal"
   ]
  },
  {
   "cell_type": "code",
   "execution_count": null,
   "id": "42fd3b4f",
   "metadata": {},
   "outputs": [],
   "source": [
    "!pip install python-telegram-bot pandas numpy"
   ]
  },
  {
   "cell_type": "code",
   "execution_count": null,
   "id": "aed8b45b",
   "metadata": {},
   "outputs": [],
   "source": [
    "import requests\n",
    "import pandas as pd\n",
    "import numpy as np\n",
    "from telegram.ext import Updater, CommandHandler\n",
    "from datetime import datetime\n",
    "import logging"
   ]
  },
  {
   "cell_type": "code",
   "execution_count": null,
   "id": "257cc96b",
   "metadata": {},
   "outputs": [],
   "source": [
    "# 🔐 GANTI DENGAN CREDENTIAL KAMU\n",
    "OKX_API_KEY = 'ISI_API_KEY_KAMU'\n",
    "OKX_API_SECRET = 'ISI_API_SECRET_KAMU'\n",
    "OKX_API_PASSPHRASE = 'ISI_PASSPHRASE_KAMU'\n",
    "TELEGRAM_TOKEN = 'ISI_TOKEN_BOT_KAMU'"
   ]
  },
  {
   "cell_type": "code",
   "execution_count": null,
   "id": "9f3837d8",
   "metadata": {},
   "outputs": [],
   "source": [
    "# ✅ Daftar coin wajib\n",
    "COIN_LIST = [\n",
    "    'BTC-USDT', 'ETH-USDT', 'SOL-USDT', 'XRP-USDT', 'TON-USDT',\n",
    "    'DOGE-USDT', 'RENDER-USDT', 'TIA-USDT', 'AVAX-USDT', 'SUI-USDT',\n",
    "    'LTC-USDT', 'UNI-USDT', 'PEPE-USDT', 'NEAR-USDT', 'ONDO-USDT'\n",
    "]"
   ]
  },
  {
   "cell_type": "code",
   "execution_count": null,
   "id": "c9fdd836",
   "metadata": {},
   "outputs": [],
   "source": [
    "# Logging\n",
    "logging.basicConfig(format='%(asctime)s - %(name)s - %(levelname)s - %(message)s', level=logging.INFO)"
   ]
  },
  {
   "cell_type": "code",
   "execution_count": null,
   "id": "d947ac1a",
   "metadata": {},
   "outputs": [],
   "source": [
    "# Ambil data candle dari OKX\n",
    "def get_candles(instId, bar='5m', limit=150):\n",
    "    url = 'https://www.okx.com/api/v5/market/history-candles'\n",
    "    params = {'instId': instId, 'bar': bar, 'limit': limit}\n",
    "    response = requests.get(url, params=params)\n",
    "    data = response.json()\n",
    "    if data['code'] == '0':\n",
    "        candles = data['data']\n",
    "        df = pd.DataFrame(candles, columns=['ts','o','h','l','c','v','val'])\n",
    "        df = df.iloc[::-1]\n",
    "        df[['o','h','l','c','v']] = df[['o','h','l','c','v']].astype(float)\n",
    "        df['ts'] = pd.to_datetime(df['ts'], unit='ms')\n",
    "        df.rename(columns={'o':'open','h':'high','l':'low','c':'close','v':'volume'}, inplace=True)\n",
    "        return df\n",
    "    else:\n",
    "        raise Exception(f\"Gagal ambil data OKX: {data['msg']}\")"
   ]
  },
  {
   "cell_type": "code",
   "execution_count": null,
   "id": "15255604",
   "metadata": {},
   "outputs": [],
   "source": [
    "# Hitung indikator teknikal\n",
    "def calculate_indicators(df):\n",
    "    df['EMA_9'] = df['close'].ewm(span=9).mean()\n",
    "    df['EMA_12'] = df['close'].ewm(span=12).mean()\n",
    "    df['EMA_20'] = df['close'].ewm(span=20).mean()\n",
    "    df['EMA_50'] = df['close'].ewm(span=50).mean()\n",
    "    df['EMA_100'] = df['close'].ewm(span=100).mean()"
   ]
  },
  {
   "cell_type": "code",
   "execution_count": null,
   "id": "922d5427",
   "metadata": {},
   "outputs": [],
   "source": [
    "    ema12 = df['EMA_12']\n",
    "    ema26 = df['close'].ewm(span=26).mean()\n",
    "    df['MACD'] = ema12 - ema26\n",
    "    df['MACD_signal'] = df['MACD'].ewm(span=9).mean()\n",
    "    df['MACD_hist'] = df['MACD'] - df['MACD_signal']"
   ]
  },
  {
   "cell_type": "code",
   "execution_count": null,
   "id": "f9006bc2",
   "metadata": {},
   "outputs": [],
   "source": [
    "    delta = df['close'].diff()\n",
    "    gain = delta.clip(lower=0)\n",
    "    loss = -delta.clip(upper=0)\n",
    "    avg_gain = gain.rolling(window=14).mean()\n",
    "    avg_loss = loss.rolling(window=14).mean()\n",
    "    rs = avg_gain / (avg_loss + 1e-9)\n",
    "    df['RSI'] = 100 - (100 / (1 + rs))"
   ]
  },
  {
   "cell_type": "code",
   "execution_count": null,
   "id": "579186c9",
   "metadata": {},
   "outputs": [],
   "source": [
    "    df['MA20'] = df['close'].rolling(window=20).mean()\n",
    "    df['BB_std'] = df['close'].rolling(window=20).std()\n",
    "    df['BB_upper'] = df['MA20'] + 2 * df['BB_std']\n",
    "    df['BB_lower'] = df['MA20'] - 2 * df['BB_std']"
   ]
  },
  {
   "cell_type": "code",
   "execution_count": null,
   "id": "7f665457",
   "metadata": {},
   "outputs": [],
   "source": [
    "    df['Vol_avg'] = df['volume'].rolling(window=20).mean()\n",
    "    return df"
   ]
  },
  {
   "cell_type": "code",
   "execution_count": null,
   "id": "f06db4e9",
   "metadata": {},
   "outputs": [],
   "source": [
    "# Analisa sinyal sederhana\n",
    "def analyze(df):\n",
    "    latest = df.iloc[-1]\n",
    "    signals = []"
   ]
  },
  {
   "cell_type": "code",
   "execution_count": null,
   "id": "171bdedc",
   "metadata": {},
   "outputs": [],
   "source": [
    "    if latest['RSI'] < 30:\n",
    "        signals.append('RSI: BUY (Oversold)')\n",
    "    elif latest['RSI'] > 70:\n",
    "        signals.append('RSI: SELL (Overbought)')"
   ]
  },
  {
   "cell_type": "code",
   "execution_count": null,
   "id": "4a76434d",
   "metadata": {},
   "outputs": [],
   "source": [
    "    if latest['MACD'] > latest['MACD_signal']:\n",
    "        signals.append('MACD: BUY')\n",
    "    elif latest['MACD'] < latest['MACD_signal']:\n",
    "        signals.append('MACD: SELL')"
   ]
  },
  {
   "cell_type": "code",
   "execution_count": null,
   "id": "c2d0d329",
   "metadata": {},
   "outputs": [],
   "source": [
    "    if latest['close'] > latest['EMA_9'] and latest['close'] > latest['EMA_12']:\n",
    "        signals.append('EMA: BUY')\n",
    "    elif latest['close'] < latest['EMA_9'] and latest['close'] < latest['EMA_12']:\n",
    "        signals.append('EMA: SELL')"
   ]
  },
  {
   "cell_type": "code",
   "execution_count": null,
   "id": "d66306f2",
   "metadata": {},
   "outputs": [],
   "source": [
    "    if latest['close'] >= latest['BB_upper']:\n",
    "        signals.append('BB: SELL (Upper Band)')\n",
    "    elif latest['close'] <= latest['BB_lower']:\n",
    "        signals.append('BB: BUY (Lower Band)')"
   ]
  },
  {
   "cell_type": "code",
   "execution_count": null,
   "id": "15064d89",
   "metadata": {},
   "outputs": [],
   "source": [
    "    if latest['volume'] > 1.5 * latest['Vol_avg']:\n",
    "        signals.append('Volume: Confirmed')"
   ]
  },
  {
   "cell_type": "code",
   "execution_count": null,
   "id": "552b0c7f",
   "metadata": {},
   "outputs": [],
   "source": [
    "    if not signals:\n",
    "        signals.append('⛔ Tidak ada sinyal valid saat ini.')"
   ]
  },
  {
   "cell_type": "code",
   "execution_count": null,
   "id": "147c87c3",
   "metadata": {},
   "outputs": [],
   "source": [
    "    return signals"
   ]
  },
  {
   "cell_type": "code",
   "execution_count": null,
   "id": "02e3c7ec",
   "metadata": {},
   "outputs": [],
   "source": [
    "# Handler Telegram\n",
    "def cek(update, context):\n",
    "    try:\n",
    "        if len(context.args) == 0:\n",
    "            update.message.reply_text(\"Format: /cek COIN [TIMEFRAME]\")\n",
    "            return"
   ]
  },
  {
   "cell_type": "code",
   "execution_count": null,
   "id": "07d3dbdb",
   "metadata": {},
   "outputs": [],
   "source": [
    "        coin = context.args[0].upper()\n",
    "        tf = context.args[1] if len(context.args) > 1 else '5m'"
   ]
  },
  {
   "cell_type": "code",
   "execution_count": null,
   "id": "105d0b12",
   "metadata": {},
   "outputs": [],
   "source": [
    "        if not coin.endswith(\"-USDT\"):\n",
    "            coin = coin.replace(\"USDT\", \"-USDT\")"
   ]
  },
  {
   "cell_type": "code",
   "execution_count": null,
   "id": "8858a94d",
   "metadata": {},
   "outputs": [],
   "source": [
    "        if coin not in COIN_LIST:\n",
    "            update.message.reply_text(\"⚠️ Coin tidak ada di whitelist bot.\")\n",
    "            return"
   ]
  },
  {
   "cell_type": "code",
   "execution_count": null,
   "id": "907cf2c3",
   "metadata": {},
   "outputs": [],
   "source": [
    "        df = get_candles(coin, bar=tf)\n",
    "        df = calculate_indicators(df)\n",
    "        signals = analyze(df)\n",
    "        latest = df.iloc[-1]"
   ]
  },
  {
   "cell_type": "code",
   "execution_count": null,
   "id": "711f769a",
   "metadata": {},
   "outputs": [],
   "source": [
    "        text = f\"📊 *Analisa {coin} ({tf})*\\n\" \\\n",
    "             + f\"Harga: {latest['close']:.4f}\\n\" \\\n",
    "             + f\"RSI: {latest['RSI']:.2f} | MACD: {latest['MACD']:.4f}\\n\\n\" \\\n",
    "             + '\\n'.join(signals)"
   ]
  },
  {
   "cell_type": "code",
   "execution_count": null,
   "id": "12b0a820",
   "metadata": {},
   "outputs": [],
   "source": [
    "        update.message.reply_text(text, parse_mode='Markdown')\n",
    "    except Exception as e:\n",
    "        update.message.reply_text(f\"❌ Error: {str(e)}\")"
   ]
  },
  {
   "cell_type": "code",
   "execution_count": null,
   "id": "b332ab94",
   "metadata": {},
   "outputs": [],
   "source": [
    "# Run bot\n",
    "updater = Updater(TELEGRAM_TOKEN)\n",
    "dp = updater.dispatcher\n",
    "dp.add_handler(CommandHandler(\"cek\", cek))\n",
    "updater.start_polling()\n",
    "print(\"✅ Bot is running...\")\n"
   ]
  }
 ],
 "metadata": {},
 "nbformat": 4,
 "nbformat_minor": 5
}

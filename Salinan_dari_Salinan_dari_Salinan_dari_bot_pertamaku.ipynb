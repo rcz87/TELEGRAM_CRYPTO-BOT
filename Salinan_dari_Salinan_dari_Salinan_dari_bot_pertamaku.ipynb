{
  "nbformat": 4,
  "nbformat_minor": 0,
  "metadata": {
    "colab": {
      "provenance": [],
      "authorship_tag": "ABX9TyMcFmw/2yu+XgD/sUERp87z",
      "include_colab_link": true
    },
    "kernelspec": {
      "name": "python3",
      "display_name": "Python 3"
    },
    "language_info": {
      "name": "python"
    }
  },
  "cells": [
    {
      "cell_type": "markdown",
      "metadata": {
        "id": "view-in-github",
        "colab_type": "text"
      },
      "source": [
        "<a href=\"https://colab.research.google.com/github/rcz87/TELEGRAM_CRYPTO-BOT/blob/main/Salinan_dari_Salinan_dari_Salinan_dari_bot_pertamaku.ipynb\" target=\"_parent\"><img src=\"https://colab.research.google.com/assets/colab-badge.svg\" alt=\"Open In Colab\"/></a>"
      ]
    },
    {
      "cell_type": "code",
      "source": [
        "!pip install python-telegram-bot --quiet\n"
      ],
      "metadata": {
        "id": "LF_ciHTsGyAw"
      },
      "execution_count": null,
      "outputs": []
    },
    {
      "cell_type": "code",
      "source": [
        "from telegram.ext import ApplicationBuilder, CommandHandler, MessageHandler, filters"
      ],
      "metadata": {
        "id": "z5scOysSxd4O"
      },
      "execution_count": null,
      "outputs": []
    },
    {
      "cell_type": "code",
      "source": [
        "TELEGRAM_TOKEN = \"7695838700:AAFoZve12b53RzL8pu_swAnFkjaqXz43zKU\""
      ],
      "metadata": {
        "id": "wF5mvMzPXr1H"
      },
      "execution_count": null,
      "outputs": []
    },
    {
      "cell_type": "code",
      "source": [
        "from telegram.ext import Updater, CommandHandler\n"
      ],
      "metadata": {
        "id": "H9BnArw2HbQg"
      },
      "execution_count": null,
      "outputs": []
    },
    {
      "cell_type": "code",
      "source": [
        "!pip install \"python-telegram-bot[job-queue]\" --quiet\n"
      ],
      "metadata": {
        "colab": {
          "base_uri": "https://localhost:8080/"
        },
        "id": "hO7pmDa7oazn",
        "outputId": "a1f1587a-9e79-4dae-c1f5-6838523e1da2"
      },
      "execution_count": null,
      "outputs": [
        {
          "output_type": "stream",
          "name": "stdout",
          "text": [
            "\u001b[?25l   \u001b[90m━━━━━━━━━━━━━━━━━━━━━━━━━━━━━━━━━━━━━━━━\u001b[0m \u001b[32m0.0/64.0 kB\u001b[0m \u001b[31m?\u001b[0m eta \u001b[36m-:--:--\u001b[0m\r\u001b[2K   \u001b[90m━━━━━━━━━━━━━━━━━━━━━━━━━━━━━━━━━━━━━━━━\u001b[0m \u001b[32m64.0/64.0 kB\u001b[0m \u001b[31m3.7 MB/s\u001b[0m eta \u001b[36m0:00:00\u001b[0m\n",
            "\u001b[?25h"
          ]
        }
      ]
    },
    {
      "cell_type": "code",
      "source": [
        "from telegram.ext import ContextTypes"
      ],
      "metadata": {
        "id": "EnwF3EOASQRH"
      },
      "execution_count": null,
      "outputs": []
    },
    {
      "cell_type": "code",
      "source": [
        "from telegram import Update\n",
        "from telegram.ext import ApplicationBuilder, CommandHandler, MessageHandler, filters, ContextTypes"
      ],
      "metadata": {
        "id": "vVfW5Ql1SXr_"
      },
      "execution_count": null,
      "outputs": []
    },
    {
      "cell_type": "code",
      "source": [
        "from telegram import Update"
      ],
      "metadata": {
        "id": "uCQZAnxjSI0W"
      },
      "execution_count": null,
      "outputs": []
    },
    {
      "cell_type": "code",
      "source": [
        "!pip install apscheduler --quiet\n"
      ],
      "metadata": {
        "id": "UX3bZXOho7gH"
      },
      "execution_count": null,
      "outputs": []
    },
    {
      "cell_type": "code",
      "source": [
        "!pip install python-telegram-bot --upgrade --quiet\n",
        "!pip install apscheduler --quiet\n"
      ],
      "metadata": {
        "id": "iUoQfTukpTYm"
      },
      "execution_count": null,
      "outputs": []
    },
    {
      "cell_type": "code",
      "source": [
        "# Daftar coin populer OKX untuk sementara (nanti bisa otomatis)\n",
        "COIN_LIST = [\n",
        "    \"BTC-USDT\", \"ETH-USDT\", \"SOL-USDT\", \"XRP-USDT\", \"DOGE-USDT\",\n",
        "    \"ADA-USDT\", \"AVAX-USDT\", \"DOT-USDT\", \"SHIB-USDT\", \"LINK-USDT\",\n",
        "    \"TRX-USDT\", \"TON-USDT\", \"MATIC-USDT\", \"BCH-USDT\", \"LTC-USDT\",\n",
        "    \"APT-USDT\", \"ARB-USDT\", \"OP-USDT\", \"INJ-USDT\", \"RNDR-USDT\",\n",
        "    # tambahkan lebih banyak jika mau\n",
        "]"
      ],
      "metadata": {
        "id": "p7rhy0-RAZyd"
      },
      "execution_count": null,
      "outputs": []
    },
    {
      "cell_type": "code",
      "source": [
        "async def simple_check(update: Update, context: ContextTypes.DEFAULT_TYPE):\n",
        "    try:\n",
        "        # Ambil pesan yang dimasukkan oleh user dan ubah ke uppercase\n",
        "        text = update.message.text.strip().upper()  # Mengubah semua input menjadi huruf besar\n",
        "        words = text.split()  # Pisahkan input menjadi list berdasarkan spasi\n",
        "\n",
        "        # Map timeframe yang valid ke format yang diterima oleh OKX\n",
        "        tf_map = {\n",
        "            '3 MENIT': '3 Menit', '5 MENIT': '5 Menit', '30 MENIT': '30 Menit', '1 JAM': '1 Jam',\n",
        "            '2 JAM': '2 Jam', '4 JAM': '4 Jam', '1 HARI': '1 Hari', '3 HARI': '3 Hari',\n",
        "            '3M': '3 Menit', '5M': '5 Menit', '30M': '30 Menit', '1H': '1 Jam', '2H': '2 Jam',\n",
        "            '4H': '4 Jam', '1D': '1 Hari', '3D': '3 Hari'\n",
        "        }\n",
        "\n",
        "        pairs = []\n",
        "        unknowns = []\n",
        "\n",
        "        # Parsing input\n",
        "        i = 0\n",
        "        while i < len(words):\n",
        "            coin = words[i]\n",
        "            tf = '5 Menit'  # Default timeframe\n",
        "\n",
        "            # Debug: Cek input yang diterima\n",
        "            print(f\"Memeriksa input: {coin} dengan timeframe {tf}\")\n",
        "\n",
        "            # Menangani jika hanya angka '5', anggap itu '5 Menit'\n",
        "            if coin.isdigit() and int(coin) == 5:\n",
        "                tf = '5 Menit'  # Ubah menjadi '5 Menit' jika hanya '5' yang dimasukkan\n",
        "            elif i + 1 < len(words) and words[i + 1] in tf_map:\n",
        "                tf = tf_map[words[i + 1]]  # Menyesuaikan timeframe sesuai input\n",
        "                i += 1  # Skip next word which is the timeframe\n",
        "\n",
        "            # Memastikan coin diubah menjadi pair -USDT jika belum ada\n",
        "            if not coin.endswith(\"-USDT\"):\n",
        "                coin = coin + \"-USDT\"\n",
        "\n",
        "            # Debug: Cek apakah coin ada di COIN_LIST\n",
        "            print(f\"Memeriksa coin: {coin} ada di COIN_LIST: {coin in COIN_LIST}\")\n",
        "\n",
        "            # Periksa apakah coin ada di COIN_LIST\n",
        "            if coin in COIN_LIST:\n",
        "                pairs.append((coin, tf))  # Coin valid\n",
        "            else:\n",
        "                unknowns.append(coin)  # Coin tidak valid\n",
        "            i += 1\n",
        "\n",
        "        # Jika ada coin invalid, kirimkan pesan\n",
        "        if unknowns:\n",
        "            await update.message.reply_text(\"⚠️ Coin tidak valid: \" + ', '.join(unknowns))\n",
        "\n",
        "        if not pairs:\n",
        "            await update.message.reply_text(\"⚠️ Tidak ada coin valid yang kamu masukkan.\")\n",
        "            return\n",
        "\n",
        "        # Proses coin yang valid\n",
        "        for coin, tf in pairs:\n",
        "            inst = coin\n",
        "            try:\n",
        "                # Coba ambil data orderbook dari OKX\n",
        "                ob_url = f\"https://www.okx.com/api/v5/market/books?instId={inst}&sz=5\"\n",
        "                ob_res = requests.get(ob_url).json()\n",
        "                orderbook = ob_res['data'][0] if ob_res['code'] == '0' else None\n",
        "\n",
        "                # Debug: Cek apakah orderbook berhasil diambil\n",
        "                print(f\"Orderbook untuk {coin}: {orderbook}\")\n",
        "\n",
        "            except Exception as e:\n",
        "                orderbook = None\n",
        "                print(f\"Error fetching orderbook for {coin}: {e}\")\n",
        "\n",
        "            # Ambil data candle dan lakukan analisis\n",
        "            df = get_candles(inst, bar=tf)\n",
        "\n",
        "            # Debug: Cek data candle yang diambil\n",
        "            print(f\"Data candle untuk {coin} ({tf}): {df.head()}\")\n",
        "\n",
        "            df = calculate_indicators(df)\n",
        "            signals = analyze(df, orderbook=orderbook)\n",
        "            latest_price = df['close'].iloc[-1]\n",
        "\n",
        "            # Membuat output dengan format yang rapi\n",
        "            output_text = f\"\"\"━━━━━━━━━━━━━━━━━━━━━━━\n",
        "📊 *ANALISA TEKNIKAL*\n",
        "━━━━━━━━━━━━━━━━━━━━━━━\n",
        "\n",
        "💎 *{inst}* — {tf}\n",
        "💰 Harga: {latest_price:.2f}\n",
        "\n",
        "{chr(10).join(signals)}\n",
        "━━━━━━━━━━━━━━━━━━━━━━━\"\"\"\n",
        "\n",
        "            await update.message.reply_text(output_text, parse_mode='Markdown')\n",
        "\n",
        "    except Exception as e:\n",
        "        await update.message.reply_text(f\"❌ Error: {str(e)}\")\n"
      ],
      "metadata": {
        "id": "KKFHB_NA_6dh"
      },
      "execution_count": null,
      "outputs": []
    },
    {
      "cell_type": "code",
      "source": [
        "import nest_asyncio\n",
        "nest_asyncio.apply()\n",
        "\n",
        "from telegram.ext import ApplicationBuilder, CommandHandler, MessageHandler, filters\n",
        "\n",
        "# Inisialisasi bot\n",
        "application = ApplicationBuilder().token(\"7695838700:AAFoZve12b53RzL8pu_swAnFkjaqXz43zKU\").build()\n",
        "\n",
        "# Handler start\n",
        "async def start(update, context):\n",
        "    await update.message.reply_text(\"Halo! Kirimkan coin dan timeframe seperti: SOL 5 Menit\")\n",
        "\n",
        "application.add_handler(CommandHandler(\"start\", start))\n",
        "application.add_handler(MessageHandler(filters.TEXT & ~filters.COMMAND, simple_check))\n",
        "\n",
        "# Jalankan bot dengan pengecekan agar tidak crash jika sudah jalan\n",
        "async def main():\n",
        "    try:\n",
        "        print(\"Menjalankan bot...\")\n",
        "        await application.initialize()\n",
        "        await application.start()\n",
        "        print(\"Bot aktif dan menunggu pesan...\")\n",
        "        await application.run-polling()\n",
        "    except RuntimeError as e:\n",
        "        if \"already running\" in str(e):\n",
        "            print(\"Bot sudah berjalan sebelumnya.\")\n",
        "        else:\n",
        "            raise e\n",
        "import nest_asyncio\n",
        "nest_asyncio.apply()\n",
        "\n",
        "await main()"
      ],
      "metadata": {
        "id": "TR6sJoc05VXN"
      },
      "execution_count": null,
      "outputs": []
    }
  ]
}